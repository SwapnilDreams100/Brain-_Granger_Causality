{
  "nbformat": 4,
  "nbformat_minor": 0,
  "metadata": {
    "colab": {
      "name": "ptsa_final.ipynb",
      "provenance": [],
      "collapsed_sections": []
    },
    "kernelspec": {
      "name": "python3",
      "display_name": "Python 3"
    },
    "language_info": {
      "name": "python"
    },
    "accelerator": "GPU"
  },
  "cells": [
    {
      "cell_type": "code",
      "execution_count": null,
      "metadata": {
        "id": "iY1n5cPHhcEs"
      },
      "outputs": [],
      "source": [
        "! git clone https://github.com/SwapnilDreams100/Neural-GC/"
      ]
    },
    {
      "cell_type": "code",
      "source": [
        "from google.colab import drive\n",
        "drive.mount('/content/drive')"
      ],
      "metadata": {
        "id": "ESU7J62shibU"
      },
      "execution_count": null,
      "outputs": []
    },
    {
      "cell_type": "code",
      "source": [
        "%cd Neural-GC/"
      ],
      "metadata": {
        "id": "NPKe-4rsiTQI"
      },
      "execution_count": null,
      "outputs": []
    },
    {
      "cell_type": "code",
      "source": [
        "# %run script.py -seed \"890\" -lam \"10.0\" -lr \"0.001\" -percent_var \"12\" -context \"10\" -mbsize \"60000\" -file '../drive/MyDrive/eeg_data/evoked_simulated_nonstationary.mat'"
      ],
      "metadata": {
        "id": "m-j2Glv6iWVw"
      },
      "execution_count": null,
      "outputs": []
    },
    {
      "cell_type": "code",
      "source": [
        "from scipy.io import loadmat\n",
        "import numpy as np\n",
        "import torch\n",
        "import matplotlib.pyplot as plt\n",
        "from models.clstm import cLSTM, train_model_accumulated_ista\n",
        "import argparse\n",
        "import random, os\n",
        "\n",
        "parser = argparse.ArgumentParser()\n",
        "parser.add_argument(\"-seed\", \"--seed\", help = \"0, 1\")\n",
        "parser.add_argument(\"-lam\", \"--lam\", help = \"0, 1\")\n",
        "parser.add_argument(\"-lr\", \"--lr\", help = \"0, 1\")\n",
        "parser.add_argument(\"-percent_var\", \"--percent_var\", help = \"0, 1\")\n",
        "parser.add_argument(\"-context\", \"--context\", help = \"0, 1\")\n",
        "parser.add_argument(\"-mbsize\", \"--mbsize\", help = \"0, 1\")\n",
        "parser.add_argument(\"-file\", \"--file\", help = \"0, 1\")\n",
        "\n",
        "args = parser.parse_args()\n",
        "\n",
        "def seed_everything(seed: int):\n",
        "    random.seed(seed)\n",
        "    os.environ['PYTHONHASHSEED'] = str(seed)\n",
        "    np.random.seed(seed)\n",
        "    torch.manual_seed(seed)\n",
        "    torch.cuda.manual_seed(seed)\n",
        "    torch.backends.cudnn.deterministic = True\n",
        "    torch.backends.cudnn.benchmark = True\n",
        "    \n",
        "seed_everything(890)\n",
        "\n",
        "data = loadmat('../drive/MyDrive/eeg_data/evoked_simulated_nonstationary2.mat')\n",
        "npdata = data['X']\n",
        "npdata_reps = npdata.mean(axis = 2)\n",
        "npdata_changed_t = npdata_reps.swapaxes(0,1)\n",
        "device = torch.device('cuda')\n",
        "X = torch.tensor(npdata_changed_t, dtype=torch.float32, device=torch.device('cpu'))\n",
        "crnn = cLSTM(X.shape[-1], hidden=100).cuda(device=device)\n",
        "train_loss_list = train_model_accumulated_ista(\n",
        "    crnn, X, context=10, mbsize=60000, lam=20.0, lam_ridge=1e-3, lr=1e-3, max_iter=20000,\n",
        "    check_every=10, percent_var = 8)\n",
        "\n",
        "GC_est = crnn.GC().cpu().data.numpy()\n",
        "GC = np.array([[0, 0, 0, 0, 0],[1, 0, 0, 0, 0], [0, 0, 0, 0, 0],[0, 1, 0, 0, 0],[0, 0, 0, 0, 0]])\n",
        "print('Estimated variable usage = %.2f%%' % (100 * np.mean(GC_est)))\n",
        "print('Actual variable usage = %.2f%%' % (100 * np.mean(GC)))\n",
        "\n",
        "fig, axarr = plt.subplots(1, 2, figsize=(10, 5))\n",
        "axarr[0].imshow(GC, cmap='viridis')\n",
        "axarr[0].set_title('GC actual')\n",
        "axarr[0].set_ylabel('Affected series')\n",
        "axarr[0].set_xlabel('Causal series')\n",
        "axarr[0].set_xticks([])\n",
        "axarr[0].set_yticks([])\n",
        "\n",
        "axarr[1].imshow(GC_est, cmap='viridis', vmin=0, vmax=1, extent=(0, len(GC_est), len(GC_est), 0))\n",
        "axarr[1].set_ylabel('Affected series')\n",
        "axarr[1].set_xlabel('Causal series')\n",
        "axarr[1].set_xticks([])\n",
        "axarr[1].set_yticks([])\n",
        "\n",
        "plt.show()"
      ],
      "metadata": {
        "id": "c9i4a9f-rviG"
      },
      "execution_count": null,
      "outputs": []
    },
    {
      "cell_type": "code",
      "source": [
        "# from scipy.io import loadmat\n",
        "\n",
        "# d = loadmat('../drive/MyDrive/eeg_data/R1598_GC.mat')\n",
        "# sparsity = d['sig_p'].mean()*100\n",
        "# sparsity"
      ],
      "metadata": {
        "id": "3gjbeM4SyUj2"
      },
      "execution_count": null,
      "outputs": []
    },
    {
      "cell_type": "code",
      "source": [
        "# from scipy.io import loadmat\n",
        "# import numpy as np\n",
        "# import torch\n",
        "# import matplotlib.pyplot as plt\n",
        "# from models.clstm import cLSTM, train_model_accumulated_ista\n",
        "# import random, os\n",
        "# def seed_everything(seed: int):\n",
        "#     random.seed(seed)\n",
        "#     os.environ['PYTHONHASHSEED'] = str(seed)\n",
        "#     np.random.seed(seed)\n",
        "#     torch.manual_seed(seed)\n",
        "#     torch.cuda.manual_seed(seed)\n",
        "#     torch.backends.cudnn.deterministic = True\n",
        "#     torch.backends.cudnn.benchmark = True\n",
        "    \n",
        "# seed_everything(69)\n",
        "\n",
        "# data = loadmat('../drive/MyDrive/eeg_data/R1598_1_500_covert_roi_matrix.mat')\n",
        "# rois = [7,11,13,16,17,20,27,39,47,48,51,56,58,68,72,74,77,78,81,88,100,108,109,112,117,119]\n",
        "# rois = [x-1 for x in rois]\n",
        "# npdata = data['ts']\n",
        "# npdata_changed = npdata[rois,:,:]\n",
        "# npdata_reps = npdata_changed[:,[x for x in range(250,npdata_changed.shape[1])],:]\n",
        "\n",
        "# npdata_reps = npdata_reps.mean(axis = 2)\n",
        "# npdata_changed_t = npdata_reps.swapaxes(0,1)\n",
        "# d = loadmat('../drive/MyDrive/eeg_data/R1598_GC.mat')\n",
        "# # sparsity = d['sig_p'].mean()*100\n",
        "# sparsity = 15\n",
        "# device = torch.device('cuda')\n",
        "# X = torch.tensor(npdata_changed_t[np.newaxis], dtype=torch.float32, device=torch.device('cpu'))\n",
        "# # X = torch.tensor(npdata_changed_t, dtype=torch.float32, device=torch.device('cpu'))\n",
        "# crnn = cLSTM(X.shape[-1], hidden=100).cuda(device=device)\n",
        "# train_loss_list = train_model_accumulated_ista(\n",
        "#     crnn, X, context=10, mbsize=500, lam=10.0, lam_ridge=1e-3, lr=1e-3/2, max_iter=20000,\n",
        "#     check_every=10, percent_var = sparsity)\n",
        "\n",
        "# GC_est = crnn.GC().cpu().data.numpy()\n",
        "# GC = d['sig_p']\n",
        "# print('Estimated variable usage = %.2f%%' % (100 * np.mean(GC_est)))\n",
        "# print('Actual variable usage = %.2f%%' % (100 * np.mean(GC)))\n",
        "\n",
        "# fig, axarr = plt.subplots(1, 2, figsize=(10, 5))\n",
        "# axarr[0].imshow(GC, cmap='viridis')\n",
        "# axarr[0].set_title('GC actual')\n",
        "# axarr[0].set_ylabel('Affected series')\n",
        "# axarr[0].set_xlabel('Causal series')\n",
        "# axarr[0].set_xticks([])\n",
        "# axarr[0].set_yticks([])\n",
        "\n",
        "# axarr[1].imshow(GC_est, cmap='viridis', vmin=0, vmax=1, extent=(0, len(GC_est), len(GC_est), 0))\n",
        "# axarr[1].set_ylabel('Affected series')\n",
        "# axarr[1].set_xlabel('Causal series')\n",
        "# axarr[1].set_xticks([])\n",
        "# axarr[1].set_yticks([])\n",
        "\n",
        "# plt.show()"
      ],
      "metadata": {
        "id": "Hw2yVn35RJ4e"
      },
      "execution_count": null,
      "outputs": []
    },
    {
      "cell_type": "code",
      "source": [
        "# import ast\n",
        "# import numpy as np\n",
        "# import matplotlib.pyplot as plt"
      ],
      "metadata": {
        "id": "H40OSanOzt_T"
      },
      "execution_count": null,
      "outputs": []
    },
    {
      "cell_type": "code",
      "source": [
        "# #1598\n",
        "# v = \"[[1 0 1 0 1 0 0 0 0 0 0 0 0 0 0 1 0 1 0 0 0 0 0 0 0 0]\\\n",
        "#  [1 0 1 0 1 0 0 0 0 0 0 0 0 0 0 1 0 1 0 0 0 0 0 0 0 0]\\\n",
        "#  [1 0 1 1 1 0 0 0 0 0 0 0 0 0 0 1 0 1 0 0 0 0 0 0 0 0]\\\n",
        "#  [1 0 1 0 1 0 0 0 0 0 0 0 0 0 0 1 0 1 0 0 0 0 0 0 0 0]\\\n",
        "#  [1 0 1 0 1 0 0 0 0 0 0 0 0 0 0 1 0 1 0 0 0 0 0 0 0 0]\\\n",
        "#  [1 0 1 0 1 0 0 0 0 0 0 0 0 0 0 1 0 1 0 0 0 0 0 0 0 0]\\\n",
        "#  [1 0 1 0 1 0 0 0 0 0 0 0 0 0 0 1 0 1 0 0 0 0 0 0 0 0]\\\n",
        "#  [1 0 1 0 0 0 0 0 0 0 0 0 0 0 0 1 0 1 0 0 0 0 0 0 0 0]\\\n",
        "#  [1 0 1 0 0 0 0 0 0 0 0 0 0 0 0 1 0 0 0 0 0 0 0 0 0 0]\\\n",
        "#  [1 0 1 0 1 0 0 0 0 0 0 0 0 0 0 1 0 0 0 0 0 0 0 0 0 0]\\\n",
        "#  [0 0 1 0 1 0 0 0 0 0 0 0 0 0 0 1 0 0 0 0 0 0 0 0 0 0]\\\n",
        "#  [0 0 1 0 0 0 0 0 0 0 0 0 0 0 0 1 0 0 0 0 0 0 0 0 0 0]\\\n",
        "#  [1 0 1 0 0 0 0 0 0 0 0 0 0 0 0 1 0 0 0 0 0 0 0 0 0 0]\\\n",
        "#  [0 0 1 0 0 0 0 0 0 0 0 0 0 0 0 1 0 0 0 0 0 0 0 0 0 0]\\\n",
        "#  [0 0 1 0 0 0 0 0 0 0 0 0 0 0 0 1 0 0 0 0 0 0 0 0 0 0]\\\n",
        "#  [1 0 1 0 1 0 0 0 0 0 0 0 0 0 0 1 0 1 1 0 1 0 0 0 0 0]\\\n",
        "#  [1 0 1 0 0 0 0 0 0 0 0 0 0 0 0 1 0 1 1 0 0 0 0 0 0 0]\\\n",
        "#  [1 0 1 0 1 0 0 0 0 0 0 0 0 0 0 1 0 1 0 0 0 0 0 0 0 0]\\\n",
        "#  [1 0 1 0 1 0 0 0 0 0 0 0 0 0 0 1 0 1 1 0 0 0 0 0 0 0]\\\n",
        "#  [1 0 1 0 0 0 0 0 0 0 0 0 0 0 0 1 0 1 0 0 0 0 0 0 0 0]\\\n",
        "#  [1 0 1 0 1 0 0 0 0 0 0 0 0 0 0 1 0 1 0 0 0 0 0 0 0 0]\\\n",
        "#  [0 0 1 0 0 0 0 0 0 0 0 0 0 0 0 1 0 0 0 0 0 0 0 0 0 0]\\\n",
        "#  [0 0 0 0 0 0 0 0 0 0 0 0 0 0 0 1 0 0 0 0 0 0 0 0 0 0]\\\n",
        "#  [0 0 1 0 0 0 0 0 0 0 0 0 0 0 0 1 0 0 0 0 0 0 0 0 0 0]\\\n",
        "#  [1 0 1 0 0 0 0 0 0 0 0 0 0 0 0 1 0 0 0 0 0 0 0 0 0 0]\\\n",
        "#  [0 0 1 0 1 0 0 0 0 0 0 0 0 0 0 1 0 0 0 0 0 0 0 0 0 0]]\"\n",
        "# v = v.replace(' ',',')\n",
        "# x = ast.literal_eval(v)\n",
        "# GC = np.array(x)\n",
        "# np.fill_diagonal(GC, 0, wrap=False)\n",
        "# fig, axarr = plt.subplots(1, 1, figsize=(10, 5))\n",
        "# axarr[0].imshow(GC, cmap='viridis')\n",
        "# axarr[0].set_title('GC actual')\n",
        "# axarr[0].set_ylabel('Affected series')\n",
        "# axarr[0].set_xlabel('Causal series')\n",
        "# axarr[0].set_xticks([])\n",
        "# axarr[0].set_yticks([])"
      ],
      "metadata": {
        "id": "bmxh7W7_g6Na"
      },
      "execution_count": null,
      "outputs": []
    },
    {
      "cell_type": "code",
      "source": [
        "# #1551\n",
        "# v = \"[[1 0 0 0 1 0 0 1 0 0 0 0 0 0 0 0 0 0 0 0 0 1 1 1 1 1]\\\n",
        "#  [0 0 0 0 0 0 0 0 0 0 0 0 0 0 0 0 0 0 0 0 0 0 0 0 0 0]\\\n",
        "#  [0 0 0 0 0 0 0 1 0 0 0 0 0 0 0 0 0 0 0 1 0 1 0 0 0 0]\\\n",
        "#  [0 0 0 1 0 0 0 0 0 0 0 0 0 0 0 0 0 0 0 0 0 0 0 1 0 1]\\\n",
        "#  [0 0 0 0 0 0 0 0 0 0 0 0 0 0 0 0 0 0 0 0 0 0 1 0 0 0]\\\n",
        "#  [0 0 0 0 0 0 0 0 0 0 0 0 0 0 0 0 0 0 0 0 0 0 0 0 0 0]\\\n",
        "#  [0 0 0 0 0 0 0 0 0 0 0 0 0 0 0 0 0 0 0 0 0 0 0 0 0 0]\\\n",
        "#  [1 1 0 1 0 0 0 1 0 1 0 0 0 0 0 0 0 0 0 0 0 1 1 1 0 1]\\\n",
        "#  [1 0 0 0 0 0 0 1 0 0 0 0 0 0 0 0 0 0 0 0 0 0 0 0 0 1]\\\n",
        "#  [0 0 0 1 0 0 0 0 0 0 0 0 0 0 0 0 0 0 0 0 0 0 0 0 0 0]\\\n",
        "#  [0 0 0 0 0 0 0 0 0 0 0 0 0 0 0 0 0 0 0 0 0 0 1 0 0 0]\\\n",
        "#  [0 0 0 1 0 0 0 0 0 0 0 0 0 0 0 0 0 0 0 0 0 0 0 0 0 0]\\\n",
        "#  [0 0 0 0 0 0 0 0 0 0 0 0 0 0 0 0 0 0 0 0 0 0 0 0 0 0]\\\n",
        "#  [0 0 0 0 0 0 0 0 0 0 0 0 0 0 0 0 0 0 0 0 0 0 0 0 0 0]\\\n",
        "#  [0 0 0 0 0 0 0 0 0 0 0 0 0 0 0 0 0 0 0 0 0 0 0 0 0 0]\\\n",
        "#  [0 0 0 0 0 0 0 0 0 0 0 0 0 0 0 0 0 0 0 0 0 0 0 0 0 0]\\\n",
        "#  [0 0 0 0 0 0 0 0 0 0 0 0 0 0 0 0 0 0 0 0 0 0 0 0 0 0]\\\n",
        "#  [0 0 0 0 0 0 0 0 0 0 0 0 0 0 0 0 0 0 0 0 0 0 0 0 0 0]\\\n",
        "#  [0 0 0 0 0 0 0 0 0 0 0 0 0 0 0 0 0 0 0 0 0 0 0 0 0 0]\\\n",
        "#  [0 0 0 0 0 0 0 0 0 0 0 0 0 0 0 0 0 0 0 0 0 0 0 0 0 0]\\\n",
        "#  [0 0 0 0 0 0 0 0 0 0 0 0 0 0 0 0 0 0 0 0 0 0 0 0 0 0]\\\n",
        "#  [1 0 0 0 0 0 0 1 0 1 0 0 0 0 0 0 0 0 0 0 0 1 1 1 1 1]\\\n",
        "#  [1 0 0 0 0 0 0 1 0 0 0 0 0 0 0 0 0 0 0 0 0 1 1 1 0 1]\\\n",
        "#  [1 1 0 1 0 0 0 1 0 0 0 0 0 0 0 0 0 0 0 0 0 1 1 1 0 1]\\\n",
        "#  [1 0 0 0 0 0 0 0 0 0 0 0 0 0 0 0 0 0 0 0 0 1 0 1 1 1]\\\n",
        "#  [1 0 1 1 1 0 0 1 0 0 1 0 1 0 0 0 0 0 0 0 0 1 0 1 1 1]]\"\n",
        "\n",
        "# v = v.replace(' ',',')\n",
        "# x = ast.literal_eval(v)\n",
        "# GC = np.array(x)\n",
        "# np.fill_diagonal(GC, 0, wrap=False)\n",
        "# fig, axarr = plt.subplots(1, 2, figsize=(10, 5))\n",
        "# axarr[0].imshow(GC, cmap='viridis')\n",
        "# axarr[0].set_title('GC actual')\n",
        "# axarr[0].set_ylabel('Affected series')\n",
        "# axarr[0].set_xlabel('Causal series')\n",
        "# axarr[0].set_xticks([])\n",
        "# axarr[0].set_yticks([])"
      ],
      "metadata": {
        "id": "i8z4g4vpQBlA"
      },
      "execution_count": null,
      "outputs": []
    },
    {
      "cell_type": "code",
      "source": [
        "# #1167\n",
        "# v = \"[[0 0 0 1 1 1 0 0 0 0 0 0 0 0 0 0 0 0 0 0 0 0 0 0 0 0]\\\n",
        "#  [0 0 0 1 1 1 0 0 0 0 0 0 0 0 0 0 0 0 0 0 0 0 0 0 0 0]\\\n",
        "#  [0 0 1 1 1 1 0 0 0 1 1 0 1 0 0 0 0 0 0 0 0 0 0 0 0 0]\\\n",
        "#  [0 0 1 1 1 1 0 0 0 0 0 0 0 0 0 0 0 0 0 0 0 0 0 0 0 0]\\\n",
        "#  [0 0 0 1 1 1 0 0 0 0 0 0 0 0 0 0 0 0 0 0 0 0 0 0 0 0]\\\n",
        "#  [0 0 0 1 1 1 0 0 0 0 0 0 0 0 0 0 1 0 0 0 0 0 1 0 0 0]\\\n",
        "#  [0 0 0 1 1 1 1 0 1 0 1 0 0 0 0 0 1 0 0 1 0 0 1 0 0 0]\\\n",
        "#  [0 0 1 1 1 1 0 0 0 1 1 0 0 0 0 0 0 0 0 0 0 0 0 0 0 0]\\\n",
        "#  [0 0 0 1 0 0 0 0 1 1 1 0 1 0 0 0 0 0 0 0 0 0 1 0 0 0]\\\n",
        "#  [0 0 1 1 0 0 0 0 1 1 1 0 1 0 0 0 0 0 0 0 0 0 1 0 0 0]\\\n",
        "#  [0 0 0 1 0 0 0 0 1 1 1 0 1 0 0 0 0 0 0 0 0 0 1 0 0 0]\\\n",
        "#  [0 0 0 1 0 0 1 0 1 1 1 1 0 0 0 0 0 0 0 1 0 0 1 0 0 0]\\\n",
        "#  [0 0 0 0 0 0 0 0 0 1 1 0 1 0 0 0 0 0 0 0 0 0 1 0 0 0]\\\n",
        "#  [0 0 0 0 0 1 0 0 0 0 0 0 0 0 0 0 0 0 0 1 0 0 1 0 0 0]\\\n",
        "#  [0 0 0 1 1 1 0 0 0 0 0 0 0 0 0 0 0 0 0 0 0 0 1 0 0 0]\\\n",
        "#  [0 0 0 0 0 1 0 0 0 0 0 0 0 0 0 0 1 0 1 1 0 0 1 0 0 0]\\\n",
        "#  [0 0 0 0 0 1 0 0 0 0 0 0 0 0 0 0 1 1 1 1 0 0 1 0 0 0]\\\n",
        "#  [0 0 0 0 1 1 0 0 0 0 0 0 0 0 0 0 1 1 1 1 0 0 1 0 0 0]\\\n",
        "#  [0 0 0 0 0 1 0 0 0 0 0 0 0 0 0 0 1 1 1 1 0 0 1 0 0 0]\\\n",
        "#  [0 0 0 0 0 1 0 0 0 0 0 0 0 0 0 0 1 0 1 1 0 0 1 0 0 0]\\\n",
        "#  [0 0 0 1 0 1 0 0 0 1 1 0 1 0 0 0 0 0 0 0 0 0 1 0 0 0]\\\n",
        "#  [0 0 0 1 1 1 0 0 0 0 1 0 0 0 0 0 0 0 0 0 0 0 1 0 0 0]\\\n",
        "#  [0 0 0 0 0 0 0 0 0 0 0 0 0 0 0 0 0 0 0 1 0 0 1 0 0 0]\\\n",
        "#  [0 0 0 1 1 1 0 0 0 0 0 0 0 0 0 0 0 0 0 0 0 0 1 0 0 0]\\\n",
        "#  [0 0 0 1 1 1 0 0 0 0 0 0 0 0 0 0 1 0 1 1 0 0 1 0 0 0]\\\n",
        "#  [0 0 0 1 1 1 0 0 0 0 1 0 0 0 0 0 0 0 0 0 0 0 1 0 0 0]]\"\n",
        "\n",
        "# v = v.replace(' ',',')\n",
        "# x = ast.literal_eval(v)\n",
        "# GC = np.array(x)\n",
        "# np.fill_diagonal(GC, 0, wrap=False)\n",
        "# fig, axarr = plt.subplots(1, 2, figsize=(10, 5))\n",
        "# axarr[0].imshow(GC, cmap='viridis')\n",
        "# axarr[0].set_title('GC actual')\n",
        "# axarr[0].set_ylabel('Affected series')\n",
        "# axarr[0].set_xlabel('Causal series')\n",
        "# axarr[0].set_xticks([])\n",
        "# axarr[0].set_yticks([])"
      ],
      "metadata": {
        "id": "T_TEd6vy-JRd"
      },
      "execution_count": null,
      "outputs": []
    },
    {
      "cell_type": "code",
      "source": [
        ""
      ],
      "metadata": {
        "id": "mUw-X1rh0iu0"
      },
      "execution_count": null,
      "outputs": []
    }
  ]
}